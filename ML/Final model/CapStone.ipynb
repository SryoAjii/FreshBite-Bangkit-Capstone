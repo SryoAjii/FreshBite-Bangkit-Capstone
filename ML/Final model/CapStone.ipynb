{
  "nbformat": 4,
  "nbformat_minor": 0,
  "metadata": {
    "colab": {
      "provenance": [],
      "gpuType": "T4"
    },
    "kernelspec": {
      "name": "python3",
      "display_name": "Python 3"
    },
    "language_info": {
      "name": "python"
    },
    "accelerator": "GPU"
  },
  "cells": [
    {
      "cell_type": "code",
      "source": [
        "!pip install roboflow\n",
        "from roboflow import Roboflow"
      ],
      "metadata": {
        "colab": {
          "base_uri": "https://localhost:8080/"
        },
        "id": "7y92zL66awQJ",
        "outputId": "c14bbce1-fdde-479f-d7df-b6f84c935a52"
      },
      "execution_count": null,
      "outputs": [
        {
          "output_type": "stream",
          "name": "stdout",
          "text": [
            "Requirement already satisfied: roboflow in /usr/local/lib/python3.10/dist-packages (1.1.32)\n",
            "Requirement already satisfied: certifi==2023.7.22 in /usr/local/lib/python3.10/dist-packages (from roboflow) (2023.7.22)\n",
            "Requirement already satisfied: chardet==4.0.0 in /usr/local/lib/python3.10/dist-packages (from roboflow) (4.0.0)\n",
            "Requirement already satisfied: cycler==0.10.0 in /usr/local/lib/python3.10/dist-packages (from roboflow) (0.10.0)\n",
            "Requirement already satisfied: idna==2.10 in /usr/local/lib/python3.10/dist-packages (from roboflow) (2.10)\n",
            "Requirement already satisfied: kiwisolver>=1.3.1 in /usr/local/lib/python3.10/dist-packages (from roboflow) (1.4.5)\n",
            "Requirement already satisfied: matplotlib in /usr/local/lib/python3.10/dist-packages (from roboflow) (3.7.1)\n",
            "Requirement already satisfied: numpy>=1.18.5 in /usr/local/lib/python3.10/dist-packages (from roboflow) (1.25.2)\n",
            "Requirement already satisfied: opencv-python-headless==4.8.0.74 in /usr/local/lib/python3.10/dist-packages (from roboflow) (4.8.0.74)\n",
            "Requirement already satisfied: Pillow>=7.1.2 in /usr/local/lib/python3.10/dist-packages (from roboflow) (9.4.0)\n",
            "Requirement already satisfied: python-dateutil in /usr/local/lib/python3.10/dist-packages (from roboflow) (2.8.2)\n",
            "Requirement already satisfied: python-dotenv in /usr/local/lib/python3.10/dist-packages (from roboflow) (1.0.1)\n",
            "Requirement already satisfied: requests in /usr/local/lib/python3.10/dist-packages (from roboflow) (2.31.0)\n",
            "Requirement already satisfied: six in /usr/local/lib/python3.10/dist-packages (from roboflow) (1.16.0)\n",
            "Requirement already satisfied: urllib3>=1.26.6 in /usr/local/lib/python3.10/dist-packages (from roboflow) (2.0.7)\n",
            "Requirement already satisfied: tqdm>=4.41.0 in /usr/local/lib/python3.10/dist-packages (from roboflow) (4.66.4)\n",
            "Requirement already satisfied: PyYAML>=5.3.1 in /usr/local/lib/python3.10/dist-packages (from roboflow) (6.0.1)\n",
            "Requirement already satisfied: requests-toolbelt in /usr/local/lib/python3.10/dist-packages (from roboflow) (1.0.0)\n",
            "Requirement already satisfied: python-magic in /usr/local/lib/python3.10/dist-packages (from roboflow) (0.4.27)\n",
            "Requirement already satisfied: contourpy>=1.0.1 in /usr/local/lib/python3.10/dist-packages (from matplotlib->roboflow) (1.2.1)\n",
            "Requirement already satisfied: fonttools>=4.22.0 in /usr/local/lib/python3.10/dist-packages (from matplotlib->roboflow) (4.53.0)\n",
            "Requirement already satisfied: packaging>=20.0 in /usr/local/lib/python3.10/dist-packages (from matplotlib->roboflow) (24.1)\n",
            "Requirement already satisfied: pyparsing>=2.3.1 in /usr/local/lib/python3.10/dist-packages (from matplotlib->roboflow) (3.1.2)\n",
            "Requirement already satisfied: charset-normalizer<4,>=2 in /usr/local/lib/python3.10/dist-packages (from requests->roboflow) (3.3.2)\n"
          ]
        }
      ]
    },
    {
      "cell_type": "code",
      "execution_count": null,
      "metadata": {
        "id": "OOoNaKvwJiOM",
        "colab": {
          "base_uri": "https://localhost:8080/"
        },
        "outputId": "8addeb87-125b-46e0-a54e-023a28cf2891"
      },
      "outputs": [
        {
          "output_type": "stream",
          "name": "stdout",
          "text": [
            "loading Roboflow workspace...\n",
            "loading Roboflow project...\n"
          ]
        },
        {
          "output_type": "stream",
          "name": "stderr",
          "text": [
            "Downloading Dataset Version Zip in Teste-1 to clip:: 100%|██████████| 281939/281939 [00:16<00:00, 17020.27it/s]"
          ]
        },
        {
          "output_type": "stream",
          "name": "stdout",
          "text": [
            "\n"
          ]
        },
        {
          "output_type": "stream",
          "name": "stderr",
          "text": [
            "\n",
            "Extracting Dataset Version Zip to Teste-1 in clip:: 100%|██████████| 10124/10124 [00:08<00:00, 1160.28it/s]\n"
          ]
        }
      ],
      "source": [
        "rf = Roboflow(api_key=\"jTsbvLGjdZ2wo8geJ5Y3\")\n",
        "project = rf.workspace(\"teste-ylhuh\").project(\"teste-xa3x6\")\n",
        "version = project.version(1)\n",
        "dataset = version.download(\"clip\")"
      ]
    },
    {
      "cell_type": "code",
      "source": [
        "!rm -rf '/content/Teste-1/train/.ipynb_checkpoints'\n",
        "!rm -rf '/content/Teste-1/test/.ipynb_checkpoints'\n",
        "!rm -rf '/content/Teste-1/valid/.ipynb_checkpoints'\n",
        "!rm '/content/Teste-1/test/_tokenization.txt'\n",
        "!rm '/content/Teste-1/train/_tokenization.txt'\n",
        "!rm '/content/Teste-1/valid/_tokenization.txt'"
      ],
      "metadata": {
        "id": "6a5WE4XPciox"
      },
      "execution_count": null,
      "outputs": []
    },
    {
      "cell_type": "code",
      "source": [
        "import tensorflow as tf\n",
        "import os\n",
        "from tensorflow.keras.layers import Dense, GlobalAveragePooling2D\n",
        "from tensorflow.keras.models import Model\n",
        "from tensorflow.keras.optimizers import Adam\n",
        "from tensorflow.keras.preprocessing.image import ImageDataGenerator\n",
        "from tensorflow.keras.models import Sequential\n",
        "from tensorflow.keras.layers import Conv2D, MaxPooling2D, Flatten, Dense, Dropout\n"
      ],
      "metadata": {
        "id": "9iI0yXlSZikg"
      },
      "execution_count": null,
      "outputs": []
    },
    {
      "cell_type": "code",
      "source": [
        "# Define paths to your train, validation, and test data\n",
        "train_data_dir = '/content/Teste-1/train/'\n",
        "valid_data_dir = '/content/Teste-1/valid/'\n",
        "test_data_dir = '/content/Teste-1/test/'\n",
        "# Parameters\n",
        "img_height, img_width = 224, 224  # Input image dimensions for MobileNetV3\n",
        "batch_size = 32\n",
        "num_classes = len(os.listdir(train_data_dir))   # Number of classes in your dataset\n",
        "\n",
        "# Data generators with augmentation for train data\n",
        "train_datagen = ImageDataGenerator(\n",
        "    rescale=1. / 255,\n",
        "    shear_range=0.2,\n",
        "    zoom_range=0.2,\n",
        "    horizontal_flip=True,\n",
        "    vertical_flip=True\n",
        ")\n",
        "\n",
        "valid_datagen = ImageDataGenerator(rescale=1. / 255)\n",
        "\n",
        "train_generator = train_datagen.flow_from_directory(\n",
        "    train_data_dir,\n",
        "    target_size=(img_height, img_width),\n",
        "    batch_size=batch_size,\n",
        "    class_mode='categorical'\n",
        ")\n",
        "\n",
        "validation_generator = valid_datagen.flow_from_directory(\n",
        "    valid_data_dir,\n",
        "    target_size=(img_height, img_width),\n",
        "    batch_size=batch_size,\n",
        "    class_mode='categorical'\n",
        ")\n"
      ],
      "metadata": {
        "id": "d3iBOKx08AEF",
        "colab": {
          "base_uri": "https://localhost:8080/"
        },
        "outputId": "339525ea-c6f2-48e9-9e51-33c53f1b6516"
      },
      "execution_count": null,
      "outputs": [
        {
          "output_type": "stream",
          "name": "stdout",
          "text": [
            "Found 6564 images belonging to 6 classes.\n",
            "Found 2525 images belonging to 6 classes.\n"
          ]
        }
      ]
    },
    {
      "cell_type": "code",
      "source": [
        "print(\"Classes in training data:\")\n",
        "for class_name, class_index in train_generator.class_indices.items():\n",
        "    print(f\"Class name: {class_name}, Class index: {class_index}\")\n",
        "\n",
        "print(\"\\nClasses in validation data:\")\n",
        "for class_name, class_index in validation_generator.class_indices.items():\n",
        "    print(f\"Class name: {class_name}, Class index: {class_index}\")\n"
      ],
      "metadata": {
        "id": "AKhSpTPY6VXQ",
        "colab": {
          "base_uri": "https://localhost:8080/"
        },
        "outputId": "ae1124b6-eaa1-4cc6-9724-352167b218a0"
      },
      "execution_count": null,
      "outputs": [
        {
          "output_type": "stream",
          "name": "stdout",
          "text": [
            "Classes in training data:\n",
            "Class name: freshapples, Class index: 0\n",
            "Class name: freshbanana, Class index: 1\n",
            "Class name: freshoranges, Class index: 2\n",
            "Class name: rottenapples, Class index: 3\n",
            "Class name: rottenbanana, Class index: 4\n",
            "Class name: rottenoranges, Class index: 5\n",
            "\n",
            "Classes in validation data:\n",
            "Class name: freshapples, Class index: 0\n",
            "Class name: freshbanana, Class index: 1\n",
            "Class name: freshoranges, Class index: 2\n",
            "Class name: rottenapples, Class index: 3\n",
            "Class name: rottenbanana, Class index: 4\n",
            "Class name: rottenoranges, Class index: 5\n"
          ]
        }
      ]
    },
    {
      "cell_type": "code",
      "source": [
        "from tensorflow.keras.applications import MobileNetV2\n",
        "\n",
        "# Load MobileNetV2 as base model (pre-trained on ImageNet)\n",
        "base_model = MobileNetV2(weights='imagenet', include_top=False, input_shape=(img_height, img_width, 3))\n",
        "\n",
        "# Create a new model\n",
        "model = Sequential()\n",
        "\n",
        "# Add the MobileNetV2 base model\n",
        "model.add(base_model)\n",
        "\n",
        "# Add layers on top of MobileNetV2\n",
        "model.add(Flatten())\n",
        "model.add(Dense(64, activation='relu'))  # Adjust units as needed\n",
        "model.add(Dropout(0.4))\n",
        "model.add(Dense(num_classes, activation='softmax'))\n",
        "\n",
        "# Freeze MobileNetV2 layers (optional)\n",
        "base_model.trainable = False\n",
        "\n",
        "# Compile the model\n",
        "model.compile(optimizer='adam',\n",
        "              loss='categorical_crossentropy',\n",
        "              metrics=['accuracy'])\n",
        "\n",
        "# Print the model summary\n",
        "model.summary()"
      ],
      "metadata": {
        "id": "ktr85KT68EdN",
        "colab": {
          "base_uri": "https://localhost:8080/"
        },
        "outputId": "c3ce7c2f-de4f-4859-d3f8-46e7ff80ccf4"
      },
      "execution_count": null,
      "outputs": [
        {
          "output_type": "stream",
          "name": "stdout",
          "text": [
            "Downloading data from https://storage.googleapis.com/tensorflow/keras-applications/mobilenet_v2/mobilenet_v2_weights_tf_dim_ordering_tf_kernels_1.0_224_no_top.h5\n",
            "9406464/9406464 [==============================] - 0s 0us/step\n",
            "Model: \"sequential\"\n",
            "_________________________________________________________________\n",
            " Layer (type)                Output Shape              Param #   \n",
            "=================================================================\n",
            " mobilenetv2_1.00_224 (Func  (None, 7, 7, 1280)        2257984   \n",
            " tional)                                                         \n",
            "                                                                 \n",
            " flatten (Flatten)           (None, 62720)             0         \n",
            "                                                                 \n",
            " dense (Dense)               (None, 64)                4014144   \n",
            "                                                                 \n",
            " dropout (Dropout)           (None, 64)                0         \n",
            "                                                                 \n",
            " dense_1 (Dense)             (None, 6)                 390       \n",
            "                                                                 \n",
            "=================================================================\n",
            "Total params: 6272518 (23.93 MB)\n",
            "Trainable params: 4014534 (15.31 MB)\n",
            "Non-trainable params: 2257984 (8.61 MB)\n",
            "_________________________________________________________________\n"
          ]
        }
      ]
    },
    {
      "cell_type": "code",
      "source": [
        "# Train the model\n",
        "epochs = 5  # Adjust the number of epochs as needed\n",
        "model.fit(\n",
        "    train_generator,\n",
        "    steps_per_epoch=train_generator.samples // batch_size,\n",
        "    epochs=epochs,\n",
        "    validation_data=validation_generator,\n",
        "    validation_steps=validation_generator.samples // batch_size\n",
        ")\n",
        "\n",
        "# Evaluate on test data\n",
        "test_datagen = ImageDataGenerator(rescale=1. / 255)\n",
        "test_generator = test_datagen.flow_from_directory(\n",
        "    test_data_dir,\n",
        "    target_size=(img_height, img_width),\n",
        "    batch_size=batch_size,\n",
        "    class_mode='categorical',\n",
        "    shuffle=False\n",
        ")\n",
        "\n",
        "# Evaluate the model on the test data\n",
        "test_loss, test_acc = model.evaluate(test_generator, steps=test_generator.samples // batch_size)\n",
        "print(f'Test accuracy: {test_acc}')"
      ],
      "metadata": {
        "id": "hzU9TOvh8HRJ",
        "colab": {
          "base_uri": "https://localhost:8080/"
        },
        "outputId": "ccc04448-0d9a-4e28-bb1c-59389d27b82b"
      },
      "execution_count": null,
      "outputs": [
        {
          "output_type": "stream",
          "name": "stdout",
          "text": [
            "Epoch 1/5\n",
            "205/205 [==============================] - 554s 3s/step - loss: 0.9147 - accuracy: 0.7843 - val_loss: 0.1692 - val_accuracy: 0.9515\n",
            "Epoch 2/5\n",
            "205/205 [==============================] - 526s 3s/step - loss: 0.3799 - accuracy: 0.8657 - val_loss: 0.2233 - val_accuracy: 0.9391\n",
            "Epoch 3/5\n",
            "205/205 [==============================] - 522s 3s/step - loss: 0.3273 - accuracy: 0.8928 - val_loss: 0.2306 - val_accuracy: 0.9415\n",
            "Epoch 4/5\n",
            "205/205 [==============================] - 497s 2s/step - loss: 0.2956 - accuracy: 0.8941 - val_loss: 0.1440 - val_accuracy: 0.9407\n",
            "Epoch 5/5\n",
            "205/205 [==============================] - 527s 3s/step - loss: 0.3162 - accuracy: 0.8887 - val_loss: 0.1266 - val_accuracy: 0.9531\n",
            "Found 1009 images belonging to 6 classes.\n",
            "31/31 [==============================] - 45s 1s/step - loss: 0.0877 - accuracy: 0.9637\n",
            "Test accuracy: 0.9637096524238586\n"
          ]
        }
      ]
    },
    {
      "cell_type": "code",
      "source": [
        "import numpy as np\n",
        "import matplotlib.pyplot as plt\n",
        "from sklearn.metrics import confusion_matrix, classification_report\n",
        "import seaborn as sns\n",
        "\n",
        "# Load the saved model (if not already loaded)\n",
        "# model = tf.keras.models.load_model('mobilenetv3_small_model.h5')\n",
        "\n",
        "# Evaluate on test data\n",
        "test_datagen = ImageDataGenerator(rescale=1. / 255)\n",
        "test_generator = test_datagen.flow_from_directory(\n",
        "    test_data_dir,\n",
        "    target_size=(img_height, img_width),\n",
        "    batch_size=batch_size,\n",
        "    class_mode='categorical',\n",
        "    shuffle=False\n",
        ")\n",
        "\n",
        "# Predict probabilities for the test set\n",
        "predictions = model.predict(test_generator, steps=test_generator.samples // batch_size + 1)\n",
        "predicted_classes = np.argmax(predictions, axis=1)\n",
        "\n",
        "# Get true labels\n",
        "true_classes = test_generator.classes\n",
        "\n",
        "# Generate confusion matrix\n",
        "cm = confusion_matrix(true_classes, predicted_classes)\n",
        "\n",
        "# Plot confusion matrix\n",
        "plt.figure(figsize=(8, 8))\n",
        "sns.heatmap(cm, annot=True, fmt='d', cmap='Blues', cbar=False,\n",
        "            xticklabels=test_generator.class_indices.keys(),\n",
        "            yticklabels=test_generator.class_indices.keys())\n",
        "plt.xlabel('Predicted labels')\n",
        "plt.ylabel('True labels')\n",
        "plt.title('Confusion Matrix')\n",
        "plt.show()\n",
        "\n",
        "# Classification report\n",
        "print(classification_report(true_classes, predicted_classes, target_names=test_generator.class_indices.keys()))"
      ],
      "metadata": {
        "id": "trctIO6s8ReG",
        "colab": {
          "base_uri": "https://localhost:8080/",
          "height": 978
        },
        "outputId": "cdbf32da-9621-4083-9897-a0e9f2655d64"
      },
      "execution_count": null,
      "outputs": [
        {
          "output_type": "stream",
          "name": "stdout",
          "text": [
            "Found 1009 images belonging to 6 classes.\n",
            "32/32 [==============================] - 50s 1s/step\n"
          ]
        },
        {
          "output_type": "display_data",
          "data": {
            "text/plain": [
              "<Figure size 800x800 with 1 Axes>"
            ],
            "image/png": "[encoded data removed]"
          },
          "metadata": {}
        },
        {
          "output_type": "stream",
          "name": "stdout",
          "text": [
            "               precision    recall  f1-score   support\n",
            "\n",
            "  freshapples       0.96      1.00      0.98       155\n",
            "  freshbanana       0.99      1.00      1.00       134\n",
            " freshoranges       0.97      0.96      0.96       125\n",
            " rottenapples       0.89      0.97      0.93       219\n",
            " rottenbanana       1.00      1.00      1.00       213\n",
            "rottenoranges       0.99      0.84      0.91       163\n",
            "\n",
            "     accuracy                           0.96      1009\n",
            "    macro avg       0.97      0.96      0.96      1009\n",
            " weighted avg       0.96      0.96      0.96      1009\n",
            "\n"
          ]
        }
      ]
    },
    {
      "cell_type": "code",
      "source": [
        "\n",
        "# Save the model\n",
        "model.save('model.h5')"
      ],
      "metadata": {
        "id": "_Fjhj1En8JzK",
        "colab": {
          "base_uri": "https://localhost:8080/"
        },
        "outputId": "36381fb3-578a-40a9-bf24-337939e7d7b6"
      },
      "execution_count": null,
      "outputs": [
        {
          "output_type": "stream",
          "name": "stderr",
          "text": [
            "You are saving your model as an HDF5 file via `model.save()`. This file format is considered legacy. We recommend using instead the native Keras format, e.g. `model.save('my_model.keras')`.\n"
          ]
        }
      ]
    },
    {
      "cell_type": "code",
      "source": [
        "import tensorflow as tf\n",
        "\n",
        "# Assuming `model` is your trained TensorFlow model\n",
        "\n",
        "# Convert the model to TensorFlow Lite format\n",
        "converter = tf.lite.TFLiteConverter.from_keras_model(model)\n",
        "tflite_model = converter.convert()\n",
        "\n",
        "# Save the TensorFlow Lite model to a file\n",
        "with open('model.tflite', 'wb') as f:\n",
        "    f.write(tflite_model)\n",
        "\n",
        "print('TensorFlow Lite model saved successfully.')"
      ],
      "metadata": {
        "id": "_QgDU6OltV5T",
        "colab": {
          "base_uri": "https://localhost:8080/"
        },
        "outputId": "1531204e-a873-490d-8895-3f06797ddda1"
      },
      "execution_count": null,
      "outputs": [
        {
          "output_type": "stream",
          "name": "stderr",
          "text": [
            "WARNING:absl:`mobilenetv2_1.00_224_input` is not a valid tf.function parameter name. Sanitizing to `mobilenetv2_1_00_224_input`.\n",
            "WARNING:absl:`mobilenetv2_1.00_224_input` is not a valid tf.function parameter name. Sanitizing to `mobilenetv2_1_00_224_input`.\n",
            "WARNING:absl:`mobilenetv2_1.00_224_input` is not a valid tf.function parameter name. Sanitizing to `mobilenetv2_1_00_224_input`.\n"
          ]
        },
        {
          "output_type": "stream",
          "name": "stdout",
          "text": [
            "TensorFlow Lite model saved successfully.\n"
          ]
        }
      ]
    },
    {
      "cell_type": "code",
      "source": [
        "# Save model architecture as JSON (no weights)\n",
        "model_json = model.to_json()\n",
        "with open(\"model.json\", \"w\") as json_file:\n",
        "    json_file.write(model_json)\n",
        "\n",
        "# Save model weights in binary format\n",
        "model.save_weights(\"model_weights.bin\")"
      ],
      "metadata": {
        "id": "ECW_h39A8lM-"
      },
      "execution_count": null,
      "outputs": []
    }
  ]
}